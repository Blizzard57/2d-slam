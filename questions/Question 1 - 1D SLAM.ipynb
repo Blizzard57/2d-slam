{
 "cells": [
  {
   "cell_type": "markdown",
   "id": "posted-twist",
   "metadata": {},
   "source": [
    "# Question 1:  Pose Graph Optimization for 1D SLAM"
   ]
  },
  {
   "cell_type": "markdown",
   "id": "chemical-andorra",
   "metadata": {},
   "source": [
    "A solved example for 1D SLAM which optimizes for pose variables using weighted least squares method (Gauss Newton) has been explained in the class. You can view it at `examples/1D-SLAM.ipynb`. Your first task is to code this from scratch.\n",
    "\n",
    "For this section, you have to calculate Jacobian analytically yourself and use it. However, you can check how correct it is using `jax`'s `jacobian`. Its usage is explained in the supplementary notebook (`examples/`)."
   ]
  },
  {
   "cell_type": "markdown",
   "id": "fleet-digest",
   "metadata": {},
   "source": [
    "## How to get started?\n",
    "\n",
    "1. Go through the example and understand the optimization procedure.\n",
    "2. Generate the data as in the example.\n",
    "3. Write the derivatives of the function with respect to the constraints\n",
    "4. Create the final jacobian and write the update steps using Gauss Newton\n",
    "\n",
    "This tiny example will help make sense of the next question, as it's largely just an extension of this."
   ]
  },
  {
   "cell_type": "markdown",
   "id": "tough-brighton",
   "metadata": {},
   "source": [
    "Finally, plot the loop closure constraint, poses, and error at every iteration as well. Since this is a one dimensional example, you can just assume x = y."
   ]
  },
  {
   "cell_type": "code",
   "execution_count": 1,
   "id": "multiple-stomach",
   "metadata": {},
   "outputs": [],
   "source": [
    "import os\n",
    "import math\n",
    "import numpy as np\n",
    "import matplotlib.pyplot as plt"
   ]
  },
  {
   "cell_type": "markdown",
   "metadata": {},
   "source": [
    "## Generating the Data"
   ]
  },
  {
   "cell_type": "code",
   "execution_count": 2,
   "id": "focal-identification",
   "metadata": {},
   "outputs": [],
   "source": [
    "# Measurement\n",
    "\n",
    "u_obs = np.array([1.1,1.0,1.1,-2.7,0.0])\n",
    "u_gt = np.array([1.0,1.0,1.0,-3.0,0.0])\n",
    "\n",
    "# Pose\n",
    "x_i = np.array([0.0,1.1,2.1,3.2,0.5])\n",
    "x_gt = np.array([0.0,1.0,2.0,3.0,0.0])"
   ]
  },
  {
   "cell_type": "markdown",
   "metadata": {},
   "source": [
    "## Function and Derivatives"
   ]
  },
  {
   "cell_type": "code",
   "execution_count": 3,
   "metadata": {},
   "outputs": [],
   "source": [
    "def constraint_fn(x,u):\n",
    "    # Odometry Constraint\n",
    "    f = np.array([[x[0] + u[0] - x[1]],[x[1] + u[1] - x[2]],[x[2] + u[2] - x[3]],[x[3] + u[3] - x[4]]])\n",
    "\n",
    "    # Loop Closure Constraint\n",
    "    f = np.append(f,[x[0] + u[4] - x[4]])\n",
    "\n",
    "    # Prior Contraint\n",
    "    f = np.append(f,[x[0] - 0])\n",
    "\n",
    "    # f is a column vector\n",
    "    return f.reshape((-1,1))\n",
    "\n",
    "def get_jacobian():\n",
    "    dx0 = np.array([1,0,0,0,1,1])\n",
    "    dx1 = np.array([-1,1,0,0,0,0])\n",
    "    dx2 = np.array([0,-1,1,0,0,0])\n",
    "    dx3 = np.array([0,0,-1,1,0,0])\n",
    "    dx4 = np.array([0,0,0,-1,-1,0])\n",
    "\n",
    "    return np.vstack([dx0,dx1,dx2,dx3,dx4]).T\n",
    "\n",
    "# The Information Matrix\n",
    "inf_mat = np.array([[100,0,0,0,0,0],\n",
    "                    [0,100,0,0,0,0],\n",
    "                    [0,0,100,0,0,0],\n",
    "                    [0,0,0,100,0,0],\n",
    "                    [0,0,0,0,100,0],\n",
    "                    [0,0,0,0,0,1000]])"
   ]
  },
  {
   "cell_type": "code",
   "execution_count": 4,
   "metadata": {},
   "outputs": [],
   "source": [
    "def error_fn(x,u,inf_mat):\n",
    "    r = constraint_fn(x,u).reshape((-1,1))\n",
    "\n",
    "    return np.squeeze(1/2 * r.T@inf_mat@r)"
   ]
  },
  {
   "cell_type": "markdown",
   "metadata": {},
   "source": [
    "## Gauss-Newton"
   ]
  },
  {
   "cell_type": "code",
   "execution_count": 5,
   "metadata": {},
   "outputs": [],
   "source": [
    "def optimize(x_i,u_obs,inf_mat,jacobian,num_iters=1000):\n",
    "    error = [error_fn(x_i,u_gt,inf_mat)]\n",
    "    x = x_i\n",
    "    H = jacobian.T@inf_mat@jacobian\n",
    "\n",
    "    print(\"Initial\")\n",
    "    print(\"Error : \",error_fn(x_i,u_gt,inf_mat))\n",
    "    for i in range(num_iters):\n",
    "        b = jacobian.T@inf_mat.T@constraint_fn(x,u_obs)\n",
    "        del_x = -np.linalg.inv(H)@b.flatten()\n",
    "        x += del_x\n",
    "        error.append(error_fn(x,u_gt,inf_mat))\n",
    "        print(\"Iteration : \",i)\n",
    "        print(\"Error : \",error[-1])\n",
    "\n",
    "    return error"
   ]
  },
  {
   "cell_type": "code",
   "execution_count": 6,
   "metadata": {},
   "outputs": [
    {
     "name": "stdout",
     "output_type": "stream",
     "text": [
      "Initial\n",
      "Error :  17.999999999999996\n",
      "Iteration :  0\n",
      "Error :  2.9999999999999925\n",
      "Iteration :  1\n",
      "Error :  2.999999999999999\n",
      "Iteration :  2\n",
      "Error :  2.999999999999998\n",
      "Iteration :  3\n",
      "Error :  2.999999999999998\n",
      "Iteration :  4\n",
      "Error :  2.999999999999998\n",
      "Iteration :  5\n",
      "Error :  2.999999999999998\n",
      "Iteration :  6\n",
      "Error :  2.999999999999998\n",
      "Iteration :  7\n",
      "Error :  2.999999999999998\n",
      "Iteration :  8\n",
      "Error :  2.999999999999998\n",
      "Iteration :  9\n",
      "Error :  2.999999999999998\n"
     ]
    }
   ],
   "source": [
    "sol = optimize(x_i,u_obs,inf_mat,get_jacobian(),num_iters=10)"
   ]
  },
  {
   "cell_type": "markdown",
   "metadata": {},
   "source": [
    "## Plots"
   ]
  },
  {
   "cell_type": "code",
   "execution_count": 8,
   "metadata": {},
   "outputs": [
    {
     "data": {
      "text/plain": [
       "[<matplotlib.lines.Line2D at 0x7fc62a9af100>]"
      ]
     },
     "execution_count": 8,
     "metadata": {},
     "output_type": "execute_result"
    },
    {
     "data": {
      "image/png": "[encoded data removed]",
      "text/plain": [
       "<Figure size 432x288 with 1 Axes>"
      ]
     },
     "metadata": {
      "needs_background": "light"
     },
     "output_type": "display_data"
    }
   ],
   "source": [
    "plt.title('Error vs Iteration')\n",
    "plt.plot(sol)"
   ]
  },
  {
   "cell_type": "markdown",
   "metadata": {},
   "source": [
    "It can be seen that the function converged to the optima in a single step. This is due to the fact that this is a linear least square problem with a closed form solution and thus optimizes in a single step"
   ]
  }
 ],
 "metadata": {
  "interpreter": {
   "hash": "31f2aee4e71d21fbe5cf8b01ff0e069b9275f58929596ceb00d14d90e3e16cd6"
  },
  "kernelspec": {
   "display_name": "Python 3.8.10 64-bit",
   "name": "python3"
  },
  "language_info": {
   "codemirror_mode": {
    "name": "ipython",
    "version": 3
   },
   "file_extension": ".py",
   "mimetype": "text/x-python",
   "name": "python",
   "nbconvert_exporter": "python",
   "pygments_lexer": "ipython3",
   "version": "3.8.10"
  }
 },
 "nbformat": 4,
 "nbformat_minor": 5
}
