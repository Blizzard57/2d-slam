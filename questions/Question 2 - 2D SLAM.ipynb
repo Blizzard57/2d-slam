{
 "cells": [
  {
   "cell_type": "markdown",
   "id": "separated-checkout",
   "metadata": {},
   "source": [
    "# Question 2:  Pose Graph Optimization for 2D SLAM"
   ]
  },
  {
   "cell_type": "markdown",
   "id": "bearing-connecticut",
   "metadata": {},
   "source": [
    "## Objective\n",
    "A robot is travelling in a oval trajectory. It is equipped with wheel odometry for odometry information and RGBD sensors for loop closure information. Due to noise in wheel odometry it generates a noisy estimate of the trajectory. Our task is to use loop closure pairs to correct the drift.\n",
    "\n",
    "We pose this problem as a graph optimization problem. In our graph, poses are the vertices and constraints are the edges. "
   ]
  },
  {
   "cell_type": "markdown",
   "id": "helpful-tactics",
   "metadata": {},
   "source": [
    "## Given: \n",
    "In practical scenarios, we'd obtain the following from our sensors after some post-processing:\n",
    "\n",
    "1. Initial position\n",
    "2. Odometry Contraints/Edges: This \"edge\" information tells us relative transformation between two nodes. These two nodes are consecutive in the case of Odometry but not in the case of Loop Closure (next point).\n",
    "3. Loop Closure Contraints/Edges: Remember that while optimizing, you have another kind of \"anchor\" edge as you've seen in 1. solved example.\n",
    "\n",
    "You have been given a text file named `edges.txt` (in `data/`) which has all the above 3 and it follows G2O's format (as explained in class, [link here](https://saishubodh.notion.site/G2O-Edge-Types-d9f9ff63c77c4ceeb84b1e49085004e3) ). The ground truth is `gt.txt`."
   ]
  },
  {
   "cell_type": "code",
   "execution_count": 1,
   "metadata": {},
   "outputs": [],
   "source": [
    "import jax.numpy as jnp\n",
    "import matplotlib.pyplot as plt\n",
    "import math\n",
    "import jax"
   ]
  },
  {
   "cell_type": "code",
   "execution_count": 2,
   "id": "elegant-laptop",
   "metadata": {},
   "outputs": [],
   "source": [
    "## Adding the g2o to homogeneous coordinates codes\n",
    "\n",
    "def readVertex(fileName):\n",
    "    f = open(fileName, 'r')\n",
    "    A = f.readlines()\n",
    "    f.close()\n",
    "\n",
    "    x_arr = []\n",
    "    y_arr = []\n",
    "    theta_arr = []\n",
    "\n",
    "    for line in A:\n",
    "        if \"VERTEX_SE2\" in line:\n",
    "            (ver, ind, x, y, theta) = line.split()\n",
    "            x_arr.append(float(x))\n",
    "            y_arr.append(float(y))\n",
    "            theta_arr.append(float(theta.rstrip('\\n')))\n",
    "\n",
    "    return jnp.array([x_arr, y_arr, theta_arr])\n",
    "\n",
    "def readEdge(fileName):\n",
    "    f = open(fileName, 'r')\n",
    "    A = f.readlines()\n",
    "    f.close()\n",
    "\n",
    "    ind1_arr = []\n",
    "    ind2_arr = []\n",
    "    del_x = []\n",
    "    del_y = []\n",
    "    del_theta = []\n",
    "    info_matrix = []\n",
    "\n",
    "    for line in A:\n",
    "        if \"EDGE_SE2\" in line:\n",
    "            (_, ind1, ind2, dx, dy, dtheta, a1, a2, a3, b2, b3, c3) = line.split()\n",
    "            a1 = float(a1)\n",
    "            a2 = float(a2)\n",
    "            a3 = float(a3)\n",
    "            b2 = float(b2)\n",
    "            b3 = float(b3)\n",
    "            c3 = float(c3)\n",
    "            ind1_arr.append(int(ind1))\n",
    "            ind2_arr.append(int(ind2))\n",
    "            del_x.append(float(dx))\n",
    "            del_y.append(float(dy))\n",
    "            del_theta.append(float(dtheta))\n",
    "            info_matrix.append(jnp.array([[a1,a2,a3],[a2,b2,b3],[a3,b3,c3]]))\n",
    "\n",
    "    return (jnp.array( ind1_arr), jnp.array(ind2_arr), jnp.array(del_x), jnp.array(del_y), jnp.array(del_theta),jnp.array(info_matrix))"
   ]
  },
  {
   "cell_type": "code",
   "execution_count": 3,
   "metadata": {},
   "outputs": [
    {
     "name": "stderr",
     "output_type": "stream",
     "text": [
      "WARNING:absl:No GPU/TPU found, falling back to CPU. (Set TF_CPP_MIN_LOG_LEVEL=0 and rerun for more info.)\n"
     ]
    }
   ],
   "source": [
    "edges = readEdge('../data/edges.txt')\n",
    "pose = readVertex('../data/edges.txt')\n",
    "pose = pose.reshape((-1,1))"
   ]
  },
  {
   "cell_type": "code",
   "execution_count": 4,
   "metadata": {},
   "outputs": [],
   "source": [
    "## Getting the poses\n",
    "\n",
    "for i in range(edges[0].shape[0]):\n",
    "    if edges[1][i] - edges[0][i] == 1:\n",
    "        theta = pose[-1][-1]\n",
    "        x = pose[0][-1] + edges[2][i]*jnp.cos(theta) - edges[3][i]*jnp.sin(theta)\n",
    "        y = pose[1][-1] + edges[2][i]*jnp.sin(theta) + edges[3][i]*jnp.cos(theta)\n",
    "        pose = jnp.append(pose,jnp.array([ x,y,theta + edges[4][i]]).reshape((-1,1)),axis=1)"
   ]
  },
  {
   "cell_type": "code",
   "execution_count": 5,
   "metadata": {},
   "outputs": [],
   "source": [
    "def draw(X, Y, THETA):\n",
    "    ax = plt.subplot(111)\n",
    "    ax.plot(X, Y, 'ro')\n",
    "    plt.plot(X, Y, 'c-')\n",
    "\n",
    "    for i in range(len(THETA)):\n",
    "        x2 = 0.25*math.cos(THETA[i]) + X[i]\n",
    "        y2 = 0.25*math.sin(THETA[i]) + Y[i]\n",
    "        plt.plot([X[i], x2], [Y[i], y2], 'g->')\n",
    "\n",
    "    plt.show()"
   ]
  },
  {
   "cell_type": "markdown",
   "metadata": {},
   "source": [
    "## Initial Pose"
   ]
  },
  {
   "cell_type": "code",
   "execution_count": 6,
   "metadata": {},
   "outputs": [
    {
     "data": {
      "image/png": "[encoded data removed]",
      "text/plain": [
       "<Figure size 432x288 with 1 Axes>"
      ]
     },
     "metadata": {
      "needs_background": "light"
     },
     "output_type": "display_data"
    }
   ],
   "source": [
    "draw(pose[0],pose[1],pose[2])"
   ]
  },
  {
   "cell_type": "markdown",
   "id": "compatible-hearts",
   "metadata": {},
   "source": [
    "## Part 2\n",
    "\n",
    "Now calculate the residual and the Jacobian and update your parameters using LM.\n",
    "\n",
    "Use LM algorithm. Regarding Jacobian calculation, you can use `jax`'s `jacobian` as part of your main code. However, you still have to separately calculate it analytically and verify if it matches with `jax`'s `jacobian` using frobenius norm `frobNorm()`). Calculation and verification is compulsory, but it is your choice to use whichever as part of your optimization. Use whichever is faster. You can also visualise your Jacobian and see the structure of the matrix (just use `plt.imshow`).\n",
    "\n",
    "**Regarding LM iterations, stopping criterion, information matrix values.**\n",
    "\n",
    "1. As your iterations proceed, you have to print relevant information (iteration number and error value: [$F = \\frac{1}{2}  \\mathbf{f}^{\\top} \\mathbf{\\Omega} \\mathbf{f} $ (notes on non-linear LS)](https://saishubodh.notion.site/From-linear-algebra-to-non-linear-weighted-least-squares-optimization-13cf17d318be4d45bb8577c4d3ea4a02#32832dee7d6c4ab49581463d9b784f21) at every step).\n",
    "\n",
    "2. You have to show the plots (ground truth, noisy & optimized: all 3 in a single plot) at every 10 steps or so.\n",
    "\n",
    "3. You could start with information values of 500 for odom edges, 700 for loop closure edges, 1000 for anchor edge (same for all dimensions). However, you have to _heavily_ experiment with these values. (Given that you somehow know loop closure information is way more reliable than odometry.). At the end of your experimentation, your error $F = \\frac{1}{2}  \\mathbf{f}^{\\top} \\mathbf{\\Omega} \\mathbf{f} $ should by < 40. Explain your experimentation in detail using tables/plots etc if necessary.\n",
    "    \n",
    "Do not worry if you're not getting a perfect trajectory. Our parametrization was oversimplified for the sake of this project. With that being said, it is possible to get the error down to < 40 and make it at least look like an oval shaped trajectory, even if it doesn't perfectly resemble the ground truth. However, using `g2o` (seen later on), you will be getting a close to ground truth trajectory."
   ]
  },
  {
   "cell_type": "markdown",
   "id": "acute-swift",
   "metadata": {},
   "source": [
    "**Tip**\n",
    "\n",
    "Be sure to make your code modular and implement this in various stages. It will help you debug errors. Feel free to create helper functions in other files, just be sure to submit those as well. \n",
    "\n",
    "You are free to optimise your code using numba/Jax/torch if you wish, just ensure that you are not using any built in functions for any of the steps. It is only compulsory to verify your Jacobian using Jax."
   ]
  },
  {
   "cell_type": "code",
   "execution_count": 17,
   "metadata": {},
   "outputs": [],
   "source": [
    "## Hyperparameters\n",
    "\n",
    "lm_lambda = 1\n",
    "iters = 100\n",
    "\n",
    "## Defining the Anchor\n",
    "anchor = pose.T[0]"
   ]
  },
  {
   "cell_type": "code",
   "execution_count": 12,
   "id": "simplified-array",
   "metadata": {},
   "outputs": [],
   "source": [
    "def res_fn(edges,pose,anchor):\n",
    "    f = jnp.array([])\n",
    "    \n",
    "    # Anchor Condition\n",
    "    f = jnp.append(f,pose.T[0] - anchor)\n",
    "    f = f.reshape((-1,1))\n",
    "\n",
    "    # Going using current pose difference and coming back using odometry to get the error\n",
    "    for i in range(edges[0].shape[0]):\n",
    "        theta = pose.T[edges[0][i]][-1] # Current Angle\n",
    "        x = pose.T[edges[0][i]][0] + edges[2][edges[0][i]]*jnp.cos(theta) - edges[3][edges[0][i]]*jnp.sin(theta)\n",
    "        y = pose.T[edges[0][i]][1] + edges[2][edges[0][i]]*jnp.sin(theta) + edges[3][edges[0][i]]*jnp.cos(theta)\n",
    "        estimate = jnp.array([ x,y,theta + edges[4][edges[0][i]]]).reshape((-1,1))\n",
    "\n",
    "        f = jnp.append(f,estimate - pose.T[edges[1][i]].reshape((-1,1)),axis=1)\n",
    "    return f\n",
    "\n",
    "def jacobian(pose,edges,anchor):\n",
    "    jac_fn = jax.jacfwd(res_fn,argnums=0)\n",
    "    J = jac_fn(pose,edges,anchor)\n",
    "    return J.reshape((420,-1,1))[:,:,0]\n",
    "\n",
    "def error_fn(pose,edges,anchor):\n",
    "    r = res_fn(edges,pose,anchor)\n",
    "    j = jacobian(pose,edges)"
   ]
  },
  {
   "cell_type": "code",
   "execution_count": 13,
   "metadata": {},
   "outputs": [
    {
     "ename": "AttributeError",
     "evalue": "'tuple' object has no attribute 'T'",
     "output_type": "error",
     "traceback": [
      "\u001b[0;31m---------------------------------------------------------------------------\u001b[0m",
      "\u001b[0;31mAttributeError\u001b[0m                            Traceback (most recent call last)",
      "\u001b[0;32m/tmp/ipykernel_11581/1416003820.py\u001b[0m in \u001b[0;36m<module>\u001b[0;34m\u001b[0m\n\u001b[0;32m----> 1\u001b[0;31m \u001b[0mf\u001b[0m \u001b[0;34m=\u001b[0m \u001b[0merror_fn\u001b[0m\u001b[0;34m(\u001b[0m\u001b[0medges\u001b[0m\u001b[0;34m,\u001b[0m\u001b[0mpose\u001b[0m\u001b[0;34m,\u001b[0m\u001b[0manchor\u001b[0m\u001b[0;34m)\u001b[0m\u001b[0;34m\u001b[0m\u001b[0;34m\u001b[0m\u001b[0m\n\u001b[0m\u001b[1;32m      2\u001b[0m \u001b[0mprint\u001b[0m\u001b[0;34m(\u001b[0m\u001b[0mf\u001b[0m\u001b[0;34m)\u001b[0m\u001b[0;34m\u001b[0m\u001b[0;34m\u001b[0m\u001b[0m\n",
      "\u001b[0;32m/tmp/ipykernel_11581/203362268.py\u001b[0m in \u001b[0;36merror_fn\u001b[0;34m(pose, edges, anchor)\u001b[0m\n\u001b[1;32m     22\u001b[0m \u001b[0;34m\u001b[0m\u001b[0m\n\u001b[1;32m     23\u001b[0m \u001b[0;32mdef\u001b[0m \u001b[0merror_fn\u001b[0m\u001b[0;34m(\u001b[0m\u001b[0mpose\u001b[0m\u001b[0;34m,\u001b[0m\u001b[0medges\u001b[0m\u001b[0;34m,\u001b[0m\u001b[0manchor\u001b[0m\u001b[0;34m)\u001b[0m\u001b[0;34m:\u001b[0m\u001b[0;34m\u001b[0m\u001b[0;34m\u001b[0m\u001b[0m\n\u001b[0;32m---> 24\u001b[0;31m     \u001b[0mr\u001b[0m \u001b[0;34m=\u001b[0m \u001b[0mres_fn\u001b[0m\u001b[0;34m(\u001b[0m\u001b[0medges\u001b[0m\u001b[0;34m,\u001b[0m\u001b[0mpose\u001b[0m\u001b[0;34m,\u001b[0m\u001b[0manchor\u001b[0m\u001b[0;34m)\u001b[0m\u001b[0;34m\u001b[0m\u001b[0;34m\u001b[0m\u001b[0m\n\u001b[0m\u001b[1;32m     25\u001b[0m     \u001b[0mj\u001b[0m \u001b[0;34m=\u001b[0m \u001b[0mjacobian\u001b[0m\u001b[0;34m(\u001b[0m\u001b[0mpose\u001b[0m\u001b[0;34m,\u001b[0m\u001b[0medges\u001b[0m\u001b[0;34m)\u001b[0m\u001b[0;34m\u001b[0m\u001b[0;34m\u001b[0m\u001b[0m\n",
      "\u001b[0;32m/tmp/ipykernel_11581/203362268.py\u001b[0m in \u001b[0;36mres_fn\u001b[0;34m(edges, pose, anchor)\u001b[0m\n\u001b[1;32m      3\u001b[0m \u001b[0;34m\u001b[0m\u001b[0m\n\u001b[1;32m      4\u001b[0m     \u001b[0;31m# Anchor Condition\u001b[0m\u001b[0;34m\u001b[0m\u001b[0;34m\u001b[0m\u001b[0;34m\u001b[0m\u001b[0m\n\u001b[0;32m----> 5\u001b[0;31m     \u001b[0mf\u001b[0m \u001b[0;34m=\u001b[0m \u001b[0mjnp\u001b[0m\u001b[0;34m.\u001b[0m\u001b[0mappend\u001b[0m\u001b[0;34m(\u001b[0m\u001b[0mf\u001b[0m\u001b[0;34m,\u001b[0m\u001b[0mpose\u001b[0m\u001b[0;34m.\u001b[0m\u001b[0mT\u001b[0m\u001b[0;34m[\u001b[0m\u001b[0;36m0\u001b[0m\u001b[0;34m]\u001b[0m \u001b[0;34m-\u001b[0m \u001b[0manchor\u001b[0m\u001b[0;34m)\u001b[0m\u001b[0;34m\u001b[0m\u001b[0;34m\u001b[0m\u001b[0m\n\u001b[0m\u001b[1;32m      6\u001b[0m     \u001b[0mf\u001b[0m \u001b[0;34m=\u001b[0m \u001b[0mf\u001b[0m\u001b[0;34m.\u001b[0m\u001b[0mreshape\u001b[0m\u001b[0;34m(\u001b[0m\u001b[0;34m(\u001b[0m\u001b[0;34m-\u001b[0m\u001b[0;36m1\u001b[0m\u001b[0;34m,\u001b[0m\u001b[0;36m1\u001b[0m\u001b[0;34m)\u001b[0m\u001b[0;34m)\u001b[0m\u001b[0;34m\u001b[0m\u001b[0;34m\u001b[0m\u001b[0m\n\u001b[1;32m      7\u001b[0m \u001b[0;34m\u001b[0m\u001b[0m\n",
      "\u001b[0;31mAttributeError\u001b[0m: 'tuple' object has no attribute 'T'"
     ]
    }
   ],
   "source": [
    "f = error_fn(edges,pose,anchor)\n",
    "print(f)"
   ]
  },
  {
   "cell_type": "code",
   "execution_count": 11,
   "metadata": {},
   "outputs": [
    {
     "data": {
      "text/plain": [
       "DeviceArray([-5., -8.,  0.], dtype=float32)"
      ]
     },
     "execution_count": 11,
     "metadata": {},
     "output_type": "execute_result"
    }
   ],
   "source": [
    "pose.T[0]"
   ]
  },
  {
   "cell_type": "markdown",
   "id": "secondary-marshall",
   "metadata": {},
   "source": [
    "## Part 3\n",
    "\n",
    "- Write about the residuals you computed, its structure and shape. Also explain the structure of the Jacobian and its shape (Express the shape in terms of the number of vertices, loop constraints, and such, not exact numbers). \n",
    "- Write about the optimization process and any observations using intermediate plots and such. "
   ]
  },
  {
   "cell_type": "code",
   "execution_count": null,
   "id": "major-dealer",
   "metadata": {},
   "outputs": [],
   "source": []
  },
  {
   "cell_type": "markdown",
   "id": "hired-slide",
   "metadata": {},
   "source": [
    "## Part 4\n",
    "\n",
    "Write the final optimised trajectory as a g2o file. You can do this alongside any of the earlier parts."
   ]
  },
  {
   "cell_type": "code",
   "execution_count": null,
   "id": "polished-reform",
   "metadata": {},
   "outputs": [],
   "source": []
  }
 ],
 "metadata": {
  "interpreter": {
   "hash": "31f2aee4e71d21fbe5cf8b01ff0e069b9275f58929596ceb00d14d90e3e16cd6"
  },
  "kernelspec": {
   "display_name": "Python 3.8.10 64-bit",
   "name": "python3"
  },
  "language_info": {
   "codemirror_mode": {
    "name": "ipython",
    "version": 3
   },
   "file_extension": ".py",
   "mimetype": "text/x-python",
   "name": "python",
   "nbconvert_exporter": "python",
   "pygments_lexer": "ipython3",
   "version": "3.8.10"
  }
 },
 "nbformat": 4,
 "nbformat_minor": 5
}
