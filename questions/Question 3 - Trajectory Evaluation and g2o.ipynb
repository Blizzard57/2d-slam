{
 "cells": [
  {
   "cell_type": "markdown",
   "id": "exposed-little",
   "metadata": {},
   "source": [
    "# Question 3: Trajectory Evaluation and g2o"
   ]
  },
  {
   "cell_type": "markdown",
   "id": "hearing-bachelor",
   "metadata": {},
   "source": [
    "_Refer to the example notebooks for installation instructions_"
   ]
  },
  {
   "cell_type": "markdown",
   "id": "radio-atlantic",
   "metadata": {},
   "source": [
    "# Evo"
   ]
  },
  {
   "cell_type": "markdown",
   "id": "recognized-booking",
   "metadata": {},
   "source": [
    "So you've implemented 2D SLAM, great! Now, what? We need a measure of how good the trajectory is. The error/loss used earlier doesn't tell us much about how the trajectory differs from the ground truth. Here, we try to do just this - compute error metrics. Rather than computing these from scratch, we will just Evo - https://github.com/MichaelGrupp/evo/."
   ]
  },
  {
   "cell_type": "markdown",
   "id": "amino-command",
   "metadata": {},
   "source": [
    "Look at the absolute pose error (APE) and relative pose error (RPE). What do they capture and how are they calculated (descriptive answer)? How do these metrics differ in methodology? Can we determine if the error is more along the x/y axis?\n",
    "\n",
    "Answer the above questions and report errors for the obtained trajectory."
   ]
  },
  {
   "cell_type": "markdown",
   "id": "f381c158",
   "metadata": {},
   "source": [
    "```\n",
    "! cp '../data/gt.txt' 'gt.g2o'\n",
    "! python3 '../misc/g2o_to_kitti.py' 'gt.g2o' 'gt.kitti'\n",
    "! cp ../data/opt.g2o .\n",
    "! python3 '../misc/g2o_to_kitti.py' 'opt.g2o' 'opt.kitti'\n",
    "\n",
    "## Run above commands in terminal if required\n",
    "```"
   ]
  },
  {
   "cell_type": "markdown",
   "id": "d0f0e0a9",
   "metadata": {},
   "source": [
    "```\n",
    "! evo_rpe kitti gt.kitti opt.kitti\n",
    "! evo_ape kitti gt.kitti opt.kitti\n",
    "```"
   ]
  },
  {
   "cell_type": "markdown",
   "id": "aae6485a",
   "metadata": {},
   "source": [
    "<!-- ![image.png](attachment:image.png) -->\n",
    "<img src=\"../misc/1.jpg\" alt=\"Drawing\" style=\"width: 250px;\"/>"
   ]
  },
  {
   "cell_type": "markdown",
   "id": "43689754",
   "metadata": {},
   "source": [
    "```\n",
    "! evo_traj kitti gt.kitti opt.kitti -v --plot --plot_mode xy\n",
    "```"
   ]
  },
  {
   "cell_type": "markdown",
   "id": "cbfcacfb",
   "metadata": {},
   "source": [
    "<img src=\"../misc/2.jpg\" alt=\"Drawing\" style=\"width: 250px;\"/>"
   ]
  },
  {
   "cell_type": "markdown",
   "id": "59809203",
   "metadata": {},
   "source": [
    "<img src=\"../misc/3.jpg\" alt=\"Drawing\" style=\"width: 250px;\"/>"
   ]
  },
  {
   "cell_type": "markdown",
   "id": "2c6e15cc",
   "metadata": {},
   "source": [
    "In Evo, Ablsolute Pose Error takes the frame by frame difference in the estimated and ground truth poses. This is simply implemented by summing/averaging over the error throughout all the frames. Relative Pose Error measures the difference between the transformations between the relative poses for predicted and ground truth poses. This can be implemented by averaging over the relative transformation difference for consecutive poses.\n",
    "\n",
    "APE gives an overall estimate of the accuracy of predicted path of the robot by SLAM, while RPE gives an idea about the amount of drift experienced by the predicted path.\n",
    "\n",
    "If we use `evo_traj` to analyse, a plot of error in x and y individually can be obtained. This will allow analyzing errors on each of the x/y axes individually along with their quantity. The source code can be potentially changed to output the correlation matrix, which will give us an idea babout which axis has higher error."
   ]
  },
  {
   "cell_type": "markdown",
   "id": "surrounded-anderson",
   "metadata": {},
   "source": [
    "If you're interested, play around with this tool and add any other plots that you think might be relevant/interesting."
   ]
  },
  {
   "cell_type": "markdown",
   "id": "exceptional-charity",
   "metadata": {},
   "source": [
    "# g2o"
   ]
  },
  {
   "cell_type": "markdown",
   "id": "presidential-hayes",
   "metadata": {},
   "source": [
    "Install g2o as mentioned in `examples/g2o.ipynb` and optimise `edges.txt`, the file you used earlier. Also use `g2o_viewer` and optimize `intel` (a trajectory in the Intel research lab) and `sphere`. They should look something like:\n",
    "\n",
    "\n",
    "<table><tr>\n",
    "<td> <img src=\"../misc/intel.jpg\" alt=\"Drawing\" style=\"width: 250px;\"/> </td>\n",
    "<td> <img src=\"../misc/sphere.jpg\" alt=\"Drawing\" style=\"width: 250px;\"/> </td>\n",
    "</tr></table>"
   ]
  },
  {
   "cell_type": "markdown",
   "id": "amino-football",
   "metadata": {},
   "source": [
    "Write briefly about your observations and try out few options in the GUI. What do they do, how do they perform?"
   ]
  },
  {
   "cell_type": "markdown",
   "id": "16e958ad",
   "metadata": {},
   "source": [
    "#### Edges"
   ]
  },
  {
   "cell_type": "markdown",
   "id": "ba7848af",
   "metadata": {},
   "source": [
    "1. Given poses\n",
    "<img src=\"../misc/4.jpg\" alt=\"Drawing\" style=\"width: 250px;\"/>"
   ]
  },
  {
   "cell_type": "markdown",
   "id": "366206a0",
   "metadata": {},
   "source": [
    "2. After initialization\n",
    "<img src=\"../misc/5.jpg\" alt=\"Drawing\" style=\"width: 250px;\"/>"
   ]
  },
  {
   "cell_type": "markdown",
   "id": "dc78e996",
   "metadata": {},
   "source": [
    "3. After optimizing with our code\n",
    "<img src=\"../misc/6.jpg\" alt=\"Drawing\" style=\"width: 250px;\"/>"
   ]
  },
  {
   "cell_type": "markdown",
   "id": "59dae764",
   "metadata": {},
   "source": [
    "4. After optimizing with g2o using Gauss Newton Optimizer in 10 iterations\n",
    "<img src=\"../misc/7.jpg\" alt=\"Drawing\" style=\"width: 250px;\"/>"
   ]
  },
  {
   "cell_type": "markdown",
   "id": "a42da510",
   "metadata": {},
   "source": [
    "#### Intel"
   ]
  },
  {
   "cell_type": "markdown",
   "id": "660ac3b9",
   "metadata": {},
   "source": [
    "1. Given Poses"
   ]
  },
  {
   "cell_type": "markdown",
   "id": "df7c047d",
   "metadata": {},
   "source": [
    "<img src=\"../misc/8.jpg\" alt=\"Drawing\" style=\"width: 250px;\"/>"
   ]
  },
  {
   "cell_type": "markdown",
   "id": "6891a701",
   "metadata": {},
   "source": [
    "2. Initial guess"
   ]
  },
  {
   "cell_type": "markdown",
   "id": "5e11d4d9",
   "metadata": {},
   "source": [
    "<img src=\"../misc/9.jpg\" alt=\"Drawing\" style=\"width: 250px;\"/>"
   ]
  },
  {
   "cell_type": "markdown",
   "id": "8f55c9e6",
   "metadata": {},
   "source": [
    "3. Final poses after optimization. Gauss Newton with no kernel used for 7 iterations by which point it converges."
   ]
  },
  {
   "cell_type": "markdown",
   "id": "ccdcc46d",
   "metadata": {},
   "source": [
    "<img src=\"../misc/10.jpg\" alt=\"Drawing\" style=\"width: 250px;\"/>"
   ]
  },
  {
   "cell_type": "markdown",
   "id": "217720f4",
   "metadata": {},
   "source": [
    "#### Sphere"
   ]
  },
  {
   "cell_type": "markdown",
   "id": "f6fa5780",
   "metadata": {},
   "source": [
    "1. Given Poses"
   ]
  },
  {
   "cell_type": "markdown",
   "id": "ca1a1fa7",
   "metadata": {},
   "source": [
    "<img src=\"../misc/11.jpg\" alt=\"Drawing\" style=\"width: 250px;\"/>"
   ]
  },
  {
   "cell_type": "markdown",
   "id": "2c822f1b",
   "metadata": {},
   "source": [
    "2. Initial Guess"
   ]
  },
  {
   "cell_type": "markdown",
   "id": "31e862ec",
   "metadata": {},
   "source": [
    "<img src=\"../misc/12.jpg\" alt=\"Drawing\" style=\"width: 250px;\"/>"
   ]
  },
  {
   "cell_type": "markdown",
   "id": "3cbe6dc2",
   "metadata": {},
   "source": [
    "3. Result after 100 iterations of Gauss Newton without kernel. We can see that the sphere is still not perfect. Chi score reduced to 8.2 * 1e6 from 1.02 *1e8."
   ]
  },
  {
   "cell_type": "markdown",
   "id": "af8689b5",
   "metadata": {},
   "source": [
    "<img src=\"../misc/13.jpg\" alt=\"Drawing\" style=\"width: 250px;\"/>"
   ]
  },
  {
   "cell_type": "markdown",
   "id": "db8787d0",
   "metadata": {},
   "source": [
    "4. Final Result - Result after 100 iterations of Gauss Newton with Robust Kernel with width of 10. We can see that the obtained sphere is much better and the chi score is lower at 4.7 * 1e5."
   ]
  },
  {
   "cell_type": "markdown",
   "id": "9e334c05",
   "metadata": {},
   "source": [
    "<img src=\"../misc/14.jpg\" alt=\"Drawing\" style=\"width: 250px;\"/>"
   ]
  },
  {
   "cell_type": "markdown",
   "id": "17ec6ee1",
   "metadata": {},
   "source": [
    "Observations and Options - \n",
    "\n",
    "1. The Robust Kernel option is highly useful in non-linear and complex paths.\n",
    "2. There ar several kinds of optimizers available such as Gauss Newton, LM, DL etc. with different configurations such as sparse/dense etc.\n",
    "3. The kernels available also vary such as Cauchy, Huber etc."
   ]
  }
 ],
 "metadata": {
  "kernelspec": {
   "display_name": "Python 3",
   "language": "python",
   "name": "python3"
  },
  "language_info": {
   "codemirror_mode": {
    "name": "ipython",
    "version": 3
   },
   "file_extension": ".py",
   "mimetype": "text/x-python",
   "name": "python",
   "nbconvert_exporter": "python",
   "pygments_lexer": "ipython3",
   "version": "3.9.6"
  }
 },
 "nbformat": 4,
 "nbformat_minor": 5
}
